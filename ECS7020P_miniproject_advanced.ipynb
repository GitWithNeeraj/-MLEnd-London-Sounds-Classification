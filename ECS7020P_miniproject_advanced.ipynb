{
 "cells": [
  {
   "cell_type": "markdown",
   "metadata": {
    "id": "91MsGMTna_P9"
   },
   "source": [
    "# 1 Author\n",
    "Name: Neeraj Yadav <br>\n"
   ]
  },
  {
   "cell_type": "markdown",
   "metadata": {},
   "source": [
    "# 2 Problem Formulation\n",
    "Building a machine learning pipeline, using the MILE END Sounds Data Set, which takes as input an audio segment and predicts the area where that segment was recorded. In the given data set, there are six areas namely 'Euston', 'british', 'campus', 'kensington', 'southbank' and 'westend'."
   ]
  },
  {
   "cell_type": "markdown",
   "metadata": {
    "id": "N3BwrtEdLDit"
   },
   "source": [
    "# 3 Machine Learning Pipeline\n",
    "1: Loading Data and Identifying Labels - The Dataset provided in MS Teams is uploaded to Google Drive. Based on the email correspondence, 6 files numbered 0033, 0381, 2201, 2203, 2205 and 2206 are removed as these files are corrupt. Then, all of the files (2494 in total) are analyzed for classifying labels. <br>\n",
    "2: Feature Extraction - For the basic solution, the audio files are read and features power, pitch mean, pitch standard deviation, fraction of voiced region, spectral centroid, spectral bandwidth, spectral contrast and mfcc are extracted. <br>\n",
    "3: Pipeline Modelling - The data are standardized and the machine learning model is implemented. <br>\n",
    "3: Training/Analysis \n",
    "4: Validation/Analysis"
   ]
  },
  {
   "cell_type": "markdown",
   "metadata": {},
   "source": [
    "We are using some of the code from the starter kit to set up data and process it."
   ]
  },
  {
   "cell_type": "code",
   "execution_count": 22,
   "metadata": {
    "colab": {
     "base_uri": "https://localhost:8080/"
    },
    "id": "h6jcTarBa5Aq",
    "outputId": "d49c37d5-72e8-4e24-f32a-03bb72ae1014"
   },
   "outputs": [],
   "source": [
    "import numpy as np\n",
    "import pandas as pd\n",
    "import matplotlib.pyplot as plt\n",
    "\n",
    "import os, sys, re, pickle, glob\n",
    "import urllib.request\n",
    "import zipfile\n",
    "\n",
    "import IPython.display as ipd\n",
    "from tqdm import tqdm\n",
    "import librosa"
   ]
  },
  {
   "cell_type": "code",
   "execution_count": 23,
   "metadata": {
    "colab": {
     "base_uri": "https://localhost:8080/"
    },
    "id": "BYrpz_QkLAp5",
    "outputId": "3b244e7c-2c20-4f64-db1c-9cd994e01410"
   },
   "outputs": [
    {
     "data": {
      "text/plain": [
       "2494"
      ]
     },
     "execution_count": 23,
     "metadata": {},
     "output_type": "execute_result"
    }
   ],
   "source": [
    "sample_path = r'C:\\Users\\venkataramanan\\Downloads\\ml\\ml\\*.wav'\n",
    "files = glob.glob(sample_path)\n",
    "len(files)"
   ]
  },
  {
   "cell_type": "code",
   "execution_count": 24,
   "metadata": {
    "colab": {
     "base_uri": "https://localhost:8080/",
     "height": 238
    },
    "id": "rRB8_X5-AP90",
    "outputId": "60c9f469-a33e-43e5-9488-5e5c397996c3"
   },
   "outputs": [
    {
     "data": {
      "text/html": [
       "<div>\n",
       "<style scoped>\n",
       "    .dataframe tbody tr th:only-of-type {\n",
       "        vertical-align: middle;\n",
       "    }\n",
       "\n",
       "    .dataframe tbody tr th {\n",
       "        vertical-align: top;\n",
       "    }\n",
       "\n",
       "    .dataframe thead th {\n",
       "        text-align: right;\n",
       "    }\n",
       "</style>\n",
       "<table border=\"1\" class=\"dataframe\">\n",
       "  <thead>\n",
       "    <tr style=\"text-align: right;\">\n",
       "      <th></th>\n",
       "      <th>area</th>\n",
       "      <th>spot</th>\n",
       "      <th>in_out</th>\n",
       "      <th>Participant</th>\n",
       "    </tr>\n",
       "    <tr>\n",
       "      <th>file_id</th>\n",
       "      <th></th>\n",
       "      <th></th>\n",
       "      <th></th>\n",
       "      <th></th>\n",
       "    </tr>\n",
       "  </thead>\n",
       "  <tbody>\n",
       "    <tr>\n",
       "      <th>0001.wav</th>\n",
       "      <td>british</td>\n",
       "      <td>street</td>\n",
       "      <td>outdoor</td>\n",
       "      <td>S151</td>\n",
       "    </tr>\n",
       "    <tr>\n",
       "      <th>0002.wav</th>\n",
       "      <td>kensington</td>\n",
       "      <td>dinosaur</td>\n",
       "      <td>indoor</td>\n",
       "      <td>S127</td>\n",
       "    </tr>\n",
       "    <tr>\n",
       "      <th>0003.wav</th>\n",
       "      <td>campus</td>\n",
       "      <td>square</td>\n",
       "      <td>outdoor</td>\n",
       "      <td>S18</td>\n",
       "    </tr>\n",
       "    <tr>\n",
       "      <th>0004.wav</th>\n",
       "      <td>kensington</td>\n",
       "      <td>hintze</td>\n",
       "      <td>indoor</td>\n",
       "      <td>S179</td>\n",
       "    </tr>\n",
       "    <tr>\n",
       "      <th>0005.wav</th>\n",
       "      <td>campus</td>\n",
       "      <td>square</td>\n",
       "      <td>outdoor</td>\n",
       "      <td>S176</td>\n",
       "    </tr>\n",
       "  </tbody>\n",
       "</table>\n",
       "</div>"
      ],
      "text/plain": [
       "                area      spot   in_out Participant\n",
       "file_id                                            \n",
       "0001.wav     british    street  outdoor        S151\n",
       "0002.wav  kensington  dinosaur   indoor        S127\n",
       "0003.wav      campus    square  outdoor         S18\n",
       "0004.wav  kensington    hintze   indoor        S179\n",
       "0005.wav      campus    square  outdoor        S176"
      ]
     },
     "execution_count": 24,
     "metadata": {},
     "output_type": "execute_result"
    }
   ],
   "source": [
    "MLENDLS_df = pd.read_csv(r'C:\\Users\\venkataramanan\\Downloads\\ml\\MLEndLS.csv').set_index('file_id')\n",
    "MLENDLS_df.head()"
   ]
  },
  {
   "cell_type": "markdown",
   "metadata": {
    "id": "j1nDXnzYLLH6"
   },
   "source": [
    "# 4 Feature extraction"
   ]
  },
  {
   "cell_type": "markdown",
   "metadata": {},
   "source": [
    "We extract the following features from the audio dataset. <br>\n",
    "1.   Power. <br>\n",
    "2.   Pitch - mean. <br>\n",
    "3.   Pitch - standard deviation. <br>\n",
    "4.   Fraction of voiced region. <br>\n",
    "5.   Spectral Centrroid <br>\n",
    "6.   Spectral Bandwidth <br>\n",
    "7.   Spectral Contrast <br>\n",
    "8.   Chromagram <br>\n",
    "9.   Constant-Q chromagram <br>\n",
    "10.  Chroma variant “Chroma Energy Normalized” (CENS) <br>\n",
    "11.  Mel-frequency cepstral coefficients (MFCC) <br>\n",
    "We find the mean of these features. And, these features are appended to the list X (predictors). The label y in this case is binary i.e., 0 corresponds to outdoors and 1 corresponds to indoors."
   ]
  },
  {
   "cell_type": "code",
   "execution_count": 25,
   "metadata": {
    "id": "fiXYO1tdJgIs"
   },
   "outputs": [],
   "source": [
    "#pitch of an audio signal\n",
    "def getPitch(x,fs,winLen=0.02):\n",
    "  #winLen = 0.02 \n",
    "  p = winLen*fs\n",
    "  frame_length = int(2**int(p-1).bit_length())\n",
    "  hop_length = frame_length//2\n",
    "  f0, voiced_flag, voiced_probs = librosa.pyin(y=x, fmin=80, fmax=450, sr=fs,\n",
    "                                                 frame_length=frame_length,hop_length=hop_length)\n",
    "  return f0,voiced_flag"
   ]
  },
  {
   "cell_type": "code",
   "execution_count": 26,
   "metadata": {
    "id": "NEMwPrVmMHZa"
   },
   "outputs": [],
   "source": [
    "def getXy(files,labels_file, scale_audio=False, onlySingleDigit=False):\n",
    "  X,y =[],[]\n",
    "  for file in tqdm(files):\n",
    "    fileID = file.split('\\\\')[-1]\n",
    "    file_name = file.split('\\\\')[-1]\n",
    "    yi = labels_file.loc[fileID]['area']\n",
    "\n",
    "    fs = None # if None, fs would be 22050\n",
    "    x, fs = librosa.load(file,sr=fs)\n",
    "    if scale_audio: x = x/np.max(np.abs(x))\n",
    "    f0, voiced_flag = getPitch(x,fs,winLen=0.02)\n",
    "      \n",
    "    power = np.sum(x**2)/len(x)\n",
    "    pitch_mean = np.nanmean(f0) if np.mean(np.isnan(f0))<1 else 0\n",
    "    pitch_std  = np.nanstd(f0) if np.mean(np.isnan(f0))<1 else 0\n",
    "    voiced_fr = np.mean(voiced_flag)\n",
    "    spectral_centroid=np.mean(librosa.feature.spectral_centroid(y=x,sr=fs))\n",
    "    spectral_bandwidth=np.mean(librosa.feature.spectral_bandwidth(y=x,sr=fs))\n",
    "    spectral_contrast=np.mean(librosa.feature.spectral_contrast(y=x,sr=fs))\n",
    "    chroma_stft=np.mean(librosa.feature.chroma_stft(y=x,sr=fs))\n",
    "    chroma_cqt=np.mean(librosa.feature.chroma_cqt(y=x,sr=fs))\n",
    "    chroma_cens=np.mean(librosa.feature.chroma_cens(y=x,sr=fs))\n",
    "    mfcc=np.mean(librosa.feature.mfcc(y=x,sr=fs))\n",
    "    xi = [power,pitch_mean,pitch_std,voiced_fr,spectral_centroid,spectral_bandwidth,spectral_contrast,chroma_stft,chroma_cqt,chroma_cens,mfcc]\n",
    "    X.append(xi)\n",
    "    y.append(yi)\n",
    "\n",
    "  return np.array(X),np.array(y)"
   ]
  },
  {
   "cell_type": "code",
   "execution_count": 27,
   "metadata": {
    "colab": {
     "base_uri": "https://localhost:8080/"
    },
    "id": "jkjX_Zu9NNUs",
    "outputId": "c5167a85-cd20-44cb-df3f-b2247c1ed4eb"
   },
   "outputs": [
    {
     "name": "stderr",
     "output_type": "stream",
     "text": [
      " 83%|████████▎ | 2068/2494 [51:47<09:47,  1.38s/it] C:\\Users\\venkataramanan\\.conda\\envs\\machine-learning-env\\lib\\site-packages\\librosa\\util\\decorators.py:88: UserWarning: n_fft=1024 is too small for input signal of length=889\n",
      "  return f(*args, **kwargs)\n",
      "100%|██████████| 2494/2494 [1:02:18<00:00,  1.50s/it]\n"
     ]
    }
   ],
   "source": [
    "X,y = getXy(files, labels_file=MLENDLS_df, scale_audio=True, onlySingleDigit=True)"
   ]
  },
  {
   "cell_type": "code",
   "execution_count": 35,
   "metadata": {
    "id": "084Z4udxU1yr"
   },
   "outputs": [
    {
     "name": "stdout",
     "output_type": "stream",
     "text": [
      "['british' 'kensington' 'campus' ... 'westend' 'british' 'british']\n"
     ]
    }
   ],
   "source": [
    "print(y)"
   ]
  },
  {
   "cell_type": "code",
   "execution_count": 29,
   "metadata": {
    "colab": {
     "base_uri": "https://localhost:8080/",
     "height": 200
    },
    "id": "kEQFi5vaRkYY",
    "outputId": "c9e7fa3b-a8d8-4dd6-d753-324a508fb18d"
   },
   "outputs": [],
   "source": [
    "#Save the outputs to use later\n",
    "np.save('X.npy', X)\n",
    "np.save('y.npy', y)"
   ]
  },
  {
   "cell_type": "markdown",
   "metadata": {
    "id": "0F5_kI95LuZ2"
   },
   "source": [
    "# 5 Methodology\n",
    "\n",
    "Following methodology has ben used to build the model. <br>\n",
    "\n",
    "1.   train_test_split: Data are split in 7:3 proportion for training and validation <br>\n",
    "2.   Standard Scaler: z-score normalization is applied on the data so that no feature with large range of values dominates algorithms <br>\n",
    "3.   Using GridSearchCV we find optimal parameters for our models\n",
    "4.   We use validation accuracy and other metrics like precision, recall, f1-score, confusion matrix and ROC AUC to determine which performs better."
   ]
  },
  {
   "cell_type": "markdown",
   "metadata": {},
   "source": [
    "# 6 Normalizing and Visualizing Dataset\n",
    "Before any machine learning model is implemented, it is imperative that the data are standardized. We can perform this using the StandardScaler class."
   ]
  },
  {
   "cell_type": "code",
   "execution_count": null,
   "metadata": {},
   "outputs": [],
   "source": [
    "#Load the outputs\n",
    "X=np.load('X_basic.npy')\n",
    "y=np.load('Y_basic.npy')"
   ]
  },
  {
   "cell_type": "code",
   "execution_count": 79,
   "metadata": {},
   "outputs": [],
   "source": [
    "from sklearn.preprocessing import StandardScaler\n",
    "from sklearn.preprocessing import LabelEncoder\n",
    "\n",
    "s = StandardScaler()\n",
    "X = s.fit_transform(X)\n",
    "MLENDLS_df_features = pd.DataFrame(data=X, columns=['power','pitch_mean','pitch_std','voiced_fr','spectral_centroid','spectral_bandwidth','spectral_contrast','chroma_stft','chroma_cqt','chroma_cens','mfcc'])\n",
    "MLENDLS_df_features['class'] = y\n",
    "enc = LabelEncoder() \n",
    "MLENDLS_df_features[\"Target\"] = enc.fit_transform(MLENDLS_df_features[\"class\"])\n",
    "MLENDLS_df_features['fileId'] = [file.split('\\\\')[-1] for file in files if file.split('\\\\')[-1] in MLENDLS_df.index]\n",
    "MLENDLS_df_features.to_csv('MileEnd_DF_Advanced_Features.csv')"
   ]
  },
  {
   "cell_type": "code",
   "execution_count": 40,
   "metadata": {},
   "outputs": [
    {
     "data": {
      "text/html": [
       "<div>\n",
       "<style scoped>\n",
       "    .dataframe tbody tr th:only-of-type {\n",
       "        vertical-align: middle;\n",
       "    }\n",
       "\n",
       "    .dataframe tbody tr th {\n",
       "        vertical-align: top;\n",
       "    }\n",
       "\n",
       "    .dataframe thead th {\n",
       "        text-align: right;\n",
       "    }\n",
       "</style>\n",
       "<table border=\"1\" class=\"dataframe\">\n",
       "  <thead>\n",
       "    <tr style=\"text-align: right;\">\n",
       "      <th></th>\n",
       "      <th>power</th>\n",
       "      <th>pitch_mean</th>\n",
       "      <th>pitch_std</th>\n",
       "      <th>voiced_fr</th>\n",
       "      <th>spectral_centroid</th>\n",
       "      <th>spectral_bandwidth</th>\n",
       "      <th>spectral_contrast</th>\n",
       "      <th>chroma_stft</th>\n",
       "      <th>chroma_cqt</th>\n",
       "      <th>chroma_cens</th>\n",
       "      <th>mfcc</th>\n",
       "      <th>class</th>\n",
       "      <th>Target</th>\n",
       "      <th>fileId</th>\n",
       "    </tr>\n",
       "  </thead>\n",
       "  <tbody>\n",
       "    <tr>\n",
       "      <th>0</th>\n",
       "      <td>1.270302</td>\n",
       "      <td>-0.840896</td>\n",
       "      <td>-0.880589</td>\n",
       "      <td>-0.855506</td>\n",
       "      <td>0.969704</td>\n",
       "      <td>1.079002</td>\n",
       "      <td>-0.246406</td>\n",
       "      <td>2.014041</td>\n",
       "      <td>-1.407725</td>\n",
       "      <td>-0.817429</td>\n",
       "      <td>1.918493</td>\n",
       "      <td>british</td>\n",
       "      <td>1</td>\n",
       "      <td>0001.wav</td>\n",
       "    </tr>\n",
       "    <tr>\n",
       "      <th>1</th>\n",
       "      <td>-0.312658</td>\n",
       "      <td>0.512150</td>\n",
       "      <td>0.626709</td>\n",
       "      <td>0.576658</td>\n",
       "      <td>-0.596170</td>\n",
       "      <td>-0.537630</td>\n",
       "      <td>0.806245</td>\n",
       "      <td>-0.925447</td>\n",
       "      <td>0.594139</td>\n",
       "      <td>0.476716</td>\n",
       "      <td>-0.519981</td>\n",
       "      <td>kensington</td>\n",
       "      <td>3</td>\n",
       "      <td>0002.wav</td>\n",
       "    </tr>\n",
       "    <tr>\n",
       "      <th>2</th>\n",
       "      <td>-0.738572</td>\n",
       "      <td>-0.439507</td>\n",
       "      <td>-0.382258</td>\n",
       "      <td>-0.389923</td>\n",
       "      <td>0.501195</td>\n",
       "      <td>0.270155</td>\n",
       "      <td>-0.619752</td>\n",
       "      <td>1.038037</td>\n",
       "      <td>1.061882</td>\n",
       "      <td>0.503472</td>\n",
       "      <td>0.140253</td>\n",
       "      <td>campus</td>\n",
       "      <td>2</td>\n",
       "      <td>0003.wav</td>\n",
       "    </tr>\n",
       "    <tr>\n",
       "      <th>3</th>\n",
       "      <td>0.286235</td>\n",
       "      <td>-0.321508</td>\n",
       "      <td>-0.144265</td>\n",
       "      <td>0.261876</td>\n",
       "      <td>0.516629</td>\n",
       "      <td>0.847039</td>\n",
       "      <td>-0.322517</td>\n",
       "      <td>-0.626912</td>\n",
       "      <td>0.664916</td>\n",
       "      <td>0.959727</td>\n",
       "      <td>-0.476240</td>\n",
       "      <td>kensington</td>\n",
       "      <td>3</td>\n",
       "      <td>0004.wav</td>\n",
       "    </tr>\n",
       "    <tr>\n",
       "      <th>4</th>\n",
       "      <td>-1.070913</td>\n",
       "      <td>0.098149</td>\n",
       "      <td>0.207105</td>\n",
       "      <td>-0.221206</td>\n",
       "      <td>-0.238468</td>\n",
       "      <td>-0.689238</td>\n",
       "      <td>-0.697768</td>\n",
       "      <td>0.592218</td>\n",
       "      <td>1.137551</td>\n",
       "      <td>0.700249</td>\n",
       "      <td>-1.737288</td>\n",
       "      <td>campus</td>\n",
       "      <td>2</td>\n",
       "      <td>0005.wav</td>\n",
       "    </tr>\n",
       "  </tbody>\n",
       "</table>\n",
       "</div>"
      ],
      "text/plain": [
       "      power  pitch_mean  pitch_std  voiced_fr  spectral_centroid  \\\n",
       "0  1.270302   -0.840896  -0.880589  -0.855506           0.969704   \n",
       "1 -0.312658    0.512150   0.626709   0.576658          -0.596170   \n",
       "2 -0.738572   -0.439507  -0.382258  -0.389923           0.501195   \n",
       "3  0.286235   -0.321508  -0.144265   0.261876           0.516629   \n",
       "4 -1.070913    0.098149   0.207105  -0.221206          -0.238468   \n",
       "\n",
       "   spectral_bandwidth  spectral_contrast  chroma_stft  chroma_cqt  \\\n",
       "0            1.079002          -0.246406     2.014041   -1.407725   \n",
       "1           -0.537630           0.806245    -0.925447    0.594139   \n",
       "2            0.270155          -0.619752     1.038037    1.061882   \n",
       "3            0.847039          -0.322517    -0.626912    0.664916   \n",
       "4           -0.689238          -0.697768     0.592218    1.137551   \n",
       "\n",
       "   chroma_cens      mfcc       class  Target    fileId  \n",
       "0    -0.817429  1.918493     british       1  0001.wav  \n",
       "1     0.476716 -0.519981  kensington       3  0002.wav  \n",
       "2     0.503472  0.140253      campus       2  0003.wav  \n",
       "3     0.959727 -0.476240  kensington       3  0004.wav  \n",
       "4     0.700249 -1.737288      campus       2  0005.wav  "
      ]
     },
     "execution_count": 40,
     "metadata": {},
     "output_type": "execute_result"
    }
   ],
   "source": [
    "MLENDLS_df_features.head()"
   ]
  },
  {
   "cell_type": "code",
   "execution_count": 38,
   "metadata": {},
   "outputs": [
    {
     "data": {
      "image/png": "[encoded data removed]",
      "text/plain": [
       "<Figure size 432x288 with 1 Axes>"
      ]
     },
     "metadata": {
      "needs_background": "light"
     },
     "output_type": "display_data"
    }
   ],
   "source": [
    "MLENDLS_df_features['class'].value_counts().plot(kind='bar')\n",
    "plt.title('Checking if Data are Balanced')\n",
    "plt.grid()\n",
    "plt.show()"
   ]
  },
  {
   "cell_type": "markdown",
   "metadata": {},
   "source": [
    "As we observe, the proportion of data in each class corresponding to a particular area is not balanced. They are disproportionate. "
   ]
  },
  {
   "cell_type": "markdown",
   "metadata": {},
   "source": [
    "# 7 Principal Component Analysis\n",
    "Since number of features is 11, we can try and do dimensionality reduction and check whether maximum variance is captured. If so, we can build our models on these reduced dimensions. We try with 2, 4 and 6 components."
   ]
  },
  {
   "cell_type": "code",
   "execution_count": 50,
   "metadata": {},
   "outputs": [
    {
     "name": "stdout",
     "output_type": "stream",
     "text": [
      "Cumulative Explained Variance Ratio for 2 Components\n",
      "[0.25637353 0.47267654]\n",
      "Cumulative Explained Variance Ratio for 4 Components\n",
      "[0.25637353 0.47267654 0.62739203 0.73741792]\n",
      "Cumulative Explained Variance Ratio for 6 Components\n",
      "[0.25637353 0.47267654 0.62739203 0.73741792 0.8239052  0.87283697]\n"
     ]
    }
   ],
   "source": [
    "from sklearn.decomposition import PCA\n",
    "\n",
    "pca = PCA(n_components=2)\n",
    "pca.fit(X)\n",
    "df_pca1 = pd.DataFrame(pca.transform(X), columns=['pca_1','pca_2'], index=MLENDLS_df_features.index)\n",
    "print(\"Cumulative Explained Variance Ratio for 2 Components\")\n",
    "print(pca.explained_variance_ratio_.cumsum())\n",
    "pca = PCA(n_components=4)\n",
    "pca.fit(X)\n",
    "df_pca2 = pd.DataFrame(pca.transform(X), columns=['pca_1','pca_2','pca_3','pca_4'], index=MLENDLS_df_features.index)\n",
    "print(\"Cumulative Explained Variance Ratio for 4 Components\")\n",
    "print(pca.explained_variance_ratio_.cumsum())\n",
    "pca = PCA(n_components=6)\n",
    "pca.fit(X)\n",
    "print(\"Cumulative Explained Variance Ratio for 6 Components\")\n",
    "print(pca.explained_variance_ratio_.cumsum())\n",
    "df_pca3 = pd.DataFrame(pca.transform(X), columns=['pca_1','pca_2','pca_3','pca_4','pca_5','pca_6'], index=MLENDLS_df_features.index)"
   ]
  },
  {
   "cell_type": "markdown",
   "metadata": {},
   "source": [
    "Reducing features to two components only captures approximately 47 percent of the total variance. Comparatively, 6 components does better as total variance captured is approximately 87 percent."
   ]
  },
  {
   "cell_type": "markdown",
   "metadata": {},
   "source": [
    "Even with six components total explained variance is not satisfactory to justify dimensionality reduction using PCA."
   ]
  },
  {
   "cell_type": "markdown",
   "metadata": {},
   "source": [
    "# 8 Visualizing Data"
   ]
  },
  {
   "cell_type": "code",
   "execution_count": 93,
   "metadata": {},
   "outputs": [
    {
     "data": {
      "text/html": [
       "<div>\n",
       "<style scoped>\n",
       "    .dataframe tbody tr th:only-of-type {\n",
       "        vertical-align: middle;\n",
       "    }\n",
       "\n",
       "    .dataframe tbody tr th {\n",
       "        vertical-align: top;\n",
       "    }\n",
       "\n",
       "    .dataframe thead th {\n",
       "        text-align: right;\n",
       "    }\n",
       "</style>\n",
       "<table border=\"1\" class=\"dataframe\">\n",
       "  <thead>\n",
       "    <tr style=\"text-align: right;\">\n",
       "      <th></th>\n",
       "      <th>power</th>\n",
       "      <th>pitch_mean</th>\n",
       "      <th>pitch_std</th>\n",
       "      <th>voiced_fr</th>\n",
       "      <th>spectral_centroid</th>\n",
       "      <th>spectral_bandwidth</th>\n",
       "      <th>spectral_contrast</th>\n",
       "      <th>chroma_stft</th>\n",
       "      <th>chroma_cqt</th>\n",
       "      <th>chroma_cens</th>\n",
       "      <th>mfcc</th>\n",
       "      <th>class</th>\n",
       "      <th>Target</th>\n",
       "      <th>fileId</th>\n",
       "    </tr>\n",
       "  </thead>\n",
       "  <tbody>\n",
       "    <tr>\n",
       "      <th>0</th>\n",
       "      <td>1.270302</td>\n",
       "      <td>-0.840896</td>\n",
       "      <td>-0.880589</td>\n",
       "      <td>-0.855506</td>\n",
       "      <td>0.969704</td>\n",
       "      <td>1.079002</td>\n",
       "      <td>-0.246406</td>\n",
       "      <td>2.014041</td>\n",
       "      <td>-1.407725</td>\n",
       "      <td>-0.817429</td>\n",
       "      <td>1.918493</td>\n",
       "      <td>british</td>\n",
       "      <td>1</td>\n",
       "      <td>0001.wav</td>\n",
       "    </tr>\n",
       "    <tr>\n",
       "      <th>1</th>\n",
       "      <td>-0.312658</td>\n",
       "      <td>0.512150</td>\n",
       "      <td>0.626709</td>\n",
       "      <td>0.576658</td>\n",
       "      <td>-0.596170</td>\n",
       "      <td>-0.537630</td>\n",
       "      <td>0.806245</td>\n",
       "      <td>-0.925447</td>\n",
       "      <td>0.594139</td>\n",
       "      <td>0.476716</td>\n",
       "      <td>-0.519981</td>\n",
       "      <td>kensington</td>\n",
       "      <td>3</td>\n",
       "      <td>0002.wav</td>\n",
       "    </tr>\n",
       "    <tr>\n",
       "      <th>2</th>\n",
       "      <td>-0.738572</td>\n",
       "      <td>-0.439507</td>\n",
       "      <td>-0.382258</td>\n",
       "      <td>-0.389923</td>\n",
       "      <td>0.501195</td>\n",
       "      <td>0.270155</td>\n",
       "      <td>-0.619752</td>\n",
       "      <td>1.038037</td>\n",
       "      <td>1.061882</td>\n",
       "      <td>0.503472</td>\n",
       "      <td>0.140253</td>\n",
       "      <td>campus</td>\n",
       "      <td>2</td>\n",
       "      <td>0003.wav</td>\n",
       "    </tr>\n",
       "    <tr>\n",
       "      <th>3</th>\n",
       "      <td>0.286235</td>\n",
       "      <td>-0.321508</td>\n",
       "      <td>-0.144265</td>\n",
       "      <td>0.261876</td>\n",
       "      <td>0.516629</td>\n",
       "      <td>0.847039</td>\n",
       "      <td>-0.322517</td>\n",
       "      <td>-0.626912</td>\n",
       "      <td>0.664916</td>\n",
       "      <td>0.959727</td>\n",
       "      <td>-0.476240</td>\n",
       "      <td>kensington</td>\n",
       "      <td>3</td>\n",
       "      <td>0004.wav</td>\n",
       "    </tr>\n",
       "    <tr>\n",
       "      <th>4</th>\n",
       "      <td>-1.070913</td>\n",
       "      <td>0.098149</td>\n",
       "      <td>0.207105</td>\n",
       "      <td>-0.221206</td>\n",
       "      <td>-0.238468</td>\n",
       "      <td>-0.689238</td>\n",
       "      <td>-0.697768</td>\n",
       "      <td>0.592218</td>\n",
       "      <td>1.137551</td>\n",
       "      <td>0.700249</td>\n",
       "      <td>-1.737288</td>\n",
       "      <td>campus</td>\n",
       "      <td>2</td>\n",
       "      <td>0005.wav</td>\n",
       "    </tr>\n",
       "    <tr>\n",
       "      <th>...</th>\n",
       "      <td>...</td>\n",
       "      <td>...</td>\n",
       "      <td>...</td>\n",
       "      <td>...</td>\n",
       "      <td>...</td>\n",
       "      <td>...</td>\n",
       "      <td>...</td>\n",
       "      <td>...</td>\n",
       "      <td>...</td>\n",
       "      <td>...</td>\n",
       "      <td>...</td>\n",
       "      <td>...</td>\n",
       "      <td>...</td>\n",
       "      <td>...</td>\n",
       "    </tr>\n",
       "    <tr>\n",
       "      <th>2489</th>\n",
       "      <td>1.831206</td>\n",
       "      <td>-0.277580</td>\n",
       "      <td>-0.591740</td>\n",
       "      <td>-0.802402</td>\n",
       "      <td>-0.198710</td>\n",
       "      <td>0.337320</td>\n",
       "      <td>-0.513777</td>\n",
       "      <td>1.756816</td>\n",
       "      <td>0.427919</td>\n",
       "      <td>-0.045635</td>\n",
       "      <td>1.969909</td>\n",
       "      <td>westend</td>\n",
       "      <td>5</td>\n",
       "      <td>2496.wav</td>\n",
       "    </tr>\n",
       "    <tr>\n",
       "      <th>2490</th>\n",
       "      <td>0.088305</td>\n",
       "      <td>0.968655</td>\n",
       "      <td>0.940637</td>\n",
       "      <td>0.245588</td>\n",
       "      <td>0.581187</td>\n",
       "      <td>0.550114</td>\n",
       "      <td>-0.214997</td>\n",
       "      <td>0.034978</td>\n",
       "      <td>0.162492</td>\n",
       "      <td>0.464386</td>\n",
       "      <td>0.735809</td>\n",
       "      <td>campus</td>\n",
       "      <td>2</td>\n",
       "      <td>2497.wav</td>\n",
       "    </tr>\n",
       "    <tr>\n",
       "      <th>2491</th>\n",
       "      <td>-0.467235</td>\n",
       "      <td>-0.397159</td>\n",
       "      <td>-0.544029</td>\n",
       "      <td>-0.051873</td>\n",
       "      <td>-0.220644</td>\n",
       "      <td>0.084865</td>\n",
       "      <td>-1.318416</td>\n",
       "      <td>0.451270</td>\n",
       "      <td>0.509259</td>\n",
       "      <td>0.372139</td>\n",
       "      <td>0.249569</td>\n",
       "      <td>westend</td>\n",
       "      <td>5</td>\n",
       "      <td>2498.wav</td>\n",
       "    </tr>\n",
       "    <tr>\n",
       "      <th>2492</th>\n",
       "      <td>-0.859817</td>\n",
       "      <td>-0.037203</td>\n",
       "      <td>-0.438539</td>\n",
       "      <td>0.036010</td>\n",
       "      <td>0.276231</td>\n",
       "      <td>0.763763</td>\n",
       "      <td>-0.908782</td>\n",
       "      <td>-1.149133</td>\n",
       "      <td>0.174175</td>\n",
       "      <td>0.061354</td>\n",
       "      <td>-0.775203</td>\n",
       "      <td>british</td>\n",
       "      <td>1</td>\n",
       "      <td>2499.wav</td>\n",
       "    </tr>\n",
       "    <tr>\n",
       "      <th>2493</th>\n",
       "      <td>-0.851509</td>\n",
       "      <td>0.026145</td>\n",
       "      <td>1.976764</td>\n",
       "      <td>0.492015</td>\n",
       "      <td>0.622698</td>\n",
       "      <td>0.593746</td>\n",
       "      <td>-0.146191</td>\n",
       "      <td>-1.017040</td>\n",
       "      <td>0.143697</td>\n",
       "      <td>0.029420</td>\n",
       "      <td>-1.251485</td>\n",
       "      <td>british</td>\n",
       "      <td>1</td>\n",
       "      <td>2500.wav</td>\n",
       "    </tr>\n",
       "  </tbody>\n",
       "</table>\n",
       "<p>2494 rows × 14 columns</p>\n",
       "</div>"
      ],
      "text/plain": [
       "         power  pitch_mean  pitch_std  voiced_fr  spectral_centroid  \\\n",
       "0     1.270302   -0.840896  -0.880589  -0.855506           0.969704   \n",
       "1    -0.312658    0.512150   0.626709   0.576658          -0.596170   \n",
       "2    -0.738572   -0.439507  -0.382258  -0.389923           0.501195   \n",
       "3     0.286235   -0.321508  -0.144265   0.261876           0.516629   \n",
       "4    -1.070913    0.098149   0.207105  -0.221206          -0.238468   \n",
       "...        ...         ...        ...        ...                ...   \n",
       "2489  1.831206   -0.277580  -0.591740  -0.802402          -0.198710   \n",
       "2490  0.088305    0.968655   0.940637   0.245588           0.581187   \n",
       "2491 -0.467235   -0.397159  -0.544029  -0.051873          -0.220644   \n",
       "2492 -0.859817   -0.037203  -0.438539   0.036010           0.276231   \n",
       "2493 -0.851509    0.026145   1.976764   0.492015           0.622698   \n",
       "\n",
       "      spectral_bandwidth  spectral_contrast  chroma_stft  chroma_cqt  \\\n",
       "0               1.079002          -0.246406     2.014041   -1.407725   \n",
       "1              -0.537630           0.806245    -0.925447    0.594139   \n",
       "2               0.270155          -0.619752     1.038037    1.061882   \n",
       "3               0.847039          -0.322517    -0.626912    0.664916   \n",
       "4              -0.689238          -0.697768     0.592218    1.137551   \n",
       "...                  ...                ...          ...         ...   \n",
       "2489            0.337320          -0.513777     1.756816    0.427919   \n",
       "2490            0.550114          -0.214997     0.034978    0.162492   \n",
       "2491            0.084865          -1.318416     0.451270    0.509259   \n",
       "2492            0.763763          -0.908782    -1.149133    0.174175   \n",
       "2493            0.593746          -0.146191    -1.017040    0.143697   \n",
       "\n",
       "      chroma_cens      mfcc       class  Target    fileId  \n",
       "0       -0.817429  1.918493     british       1  0001.wav  \n",
       "1        0.476716 -0.519981  kensington       3  0002.wav  \n",
       "2        0.503472  0.140253      campus       2  0003.wav  \n",
       "3        0.959727 -0.476240  kensington       3  0004.wav  \n",
       "4        0.700249 -1.737288      campus       2  0005.wav  \n",
       "...           ...       ...         ...     ...       ...  \n",
       "2489    -0.045635  1.969909     westend       5  2496.wav  \n",
       "2490     0.464386  0.735809      campus       2  2497.wav  \n",
       "2491     0.372139  0.249569     westend       5  2498.wav  \n",
       "2492     0.061354 -0.775203     british       1  2499.wav  \n",
       "2493     0.029420 -1.251485     british       1  2500.wav  \n",
       "\n",
       "[2494 rows x 14 columns]"
      ]
     },
     "execution_count": 93,
     "metadata": {},
     "output_type": "execute_result"
    }
   ],
   "source": [
    "import seaborn as sns\n",
    "df_total = MLENDLS_df_features.copy(deep=True)\n",
    "df_total"
   ]
  },
  {
   "cell_type": "code",
   "execution_count": 94,
   "metadata": {},
   "outputs": [],
   "source": [
    "df_total=df_total.drop('class',axis=1)\n",
    "df_total=df_total.drop('fileId',axis=1)"
   ]
  },
  {
   "cell_type": "code",
   "execution_count": 99,
   "metadata": {},
   "outputs": [],
   "source": [
    "arr = df_total.to_numpy()\n",
    "arr = s.fit_transform(arr)\n",
    "arr = pd.DataFrame(data=arr, columns=['power','pitch_mean','pitch_std','voiced_fr','spectral_centroid','spectral_bandwidth','spectral_contrast','chroma_stft','chroma_cqt','chroma_cens','mfcc','y'])"
   ]
  },
  {
   "cell_type": "code",
   "execution_count": 100,
   "metadata": {},
   "outputs": [
    {
     "data": {
      "image/png": "[encoded data removed]",
      "text/plain": [
       "<Figure size 864x864 with 2 Axes>"
      ]
     },
     "metadata": {
      "needs_background": "light"
     },
     "output_type": "display_data"
    }
   ],
   "source": [
    "plt.figure(figsize=(12,12)) \n",
    "sns.heatmap(arr.corr(),annot=True,cmap='coolwarm') \n",
    "plt.show()"
   ]
  },
  {
   "cell_type": "markdown",
   "metadata": {},
   "source": [
    "We can observe some strong correlation between features like mfcc and power. Also, the label y is weakly correlated with the features extracted from the audio dataset."
   ]
  },
  {
   "cell_type": "markdown",
   "metadata": {},
   "source": [
    "# 9 Modeling\n",
    "We use following models to predict the area where a given audio segment is captured.\n",
    "\n",
    "1. Random Forest  <br>\n",
    "2. KNN <br>\n",
    "\n",
    "Reasons for chosing Random Forest <br>\n",
    "1. Performs well in large data sets <br>\n",
    "2. Accuracy is reasonably high <br>\n",
    "3. Overfitting can be avoided despite many features <br>\n",
    "Reasons for chosing KNN <br>\n",
    "1. Relatively inexpensive computationally <br>\n",
    "2. No need to iterate tuning parameters<br>\n",
    "3. Easy to Implement<br>"
   ]
  },
  {
   "cell_type": "markdown",
   "metadata": {},
   "source": [
    "Splitting processed data into training and validation sets."
   ]
  },
  {
   "cell_type": "code",
   "execution_count": 69,
   "metadata": {},
   "outputs": [
    {
     "data": {
      "text/plain": [
       "((1745, 11), (749, 11), (1745,), (749,))"
      ]
     },
     "execution_count": 69,
     "metadata": {},
     "output_type": "execute_result"
    }
   ],
   "source": [
    "from sklearn import svm\n",
    "from sklearn.model_selection import train_test_split\n",
    "\n",
    "X_train, X_val, y_train, y_val = train_test_split(X,y,test_size=0.3)\n",
    "X_train.shape, X_val.shape, y_train.shape, y_val.shape"
   ]
  },
  {
   "cell_type": "markdown",
   "metadata": {},
   "source": [
    "<h1>Random Forest</h1>"
   ]
  },
  {
   "cell_type": "code",
   "execution_count": 70,
   "metadata": {
    "id": "Uv0rBpWFkoe6"
   },
   "outputs": [],
   "source": [
    "from sklearn.ensemble import RandomForestClassifier\n",
    "from sklearn.model_selection import GridSearchCV\n",
    "\n",
    "parameters = {\n",
    "    'max_depth': [7,8,9,10],\n",
    "    'criterion': ['gini', 'entropy'],\n",
    "    'n_estimators':[200,300,400],\n",
    "    'bootstrap': ['False'],\n",
    "    'class_weight': ['balanced', 'balanced_subsample']\n",
    "}\n",
    "\n",
    "grid_rf = RandomForestClassifier()\n",
    "grid_forest = GridSearchCV(grid_rf, parameters, n_jobs=-1)\n",
    "\n",
    "grid_forest.fit(X_train,y_train)\n",
    "\n",
    "yt_p = grid_forest.predict(X_train)\n",
    "yv_p = grid_forest.predict(X_val)\n"
   ]
  },
  {
   "cell_type": "code",
   "execution_count": 71,
   "metadata": {},
   "outputs": [
    {
     "name": "stdout",
     "output_type": "stream",
     "text": [
      "0.436676217765043\n",
      "{'bootstrap': 'False', 'class_weight': 'balanced', 'criterion': 'gini', 'max_depth': 10, 'n_estimators': 300}\n"
     ]
    }
   ],
   "source": [
    "#optimal model parameters\n",
    "print (grid_forest.best_score_)\n",
    "print (grid_forest.best_params_)\n",
    "     "
   ]
  },
  {
   "cell_type": "code",
   "execution_count": 72,
   "metadata": {},
   "outputs": [
    {
     "data": {
      "text/html": [
       "<style>#sk-container-id-1 {color: black;background-color: white;}#sk-container-id-1 pre{padding: 0;}#sk-container-id-1 div.sk-toggleable {background-color: white;}#sk-container-id-1 label.sk-toggleable__label {cursor: pointer;display: block;width: 100%;margin-bottom: 0;padding: 0.3em;box-sizing: border-box;text-align: center;}#sk-container-id-1 label.sk-toggleable__label-arrow:before {content: \"▸\";float: left;margin-right: 0.25em;color: #696969;}#sk-container-id-1 label.sk-toggleable__label-arrow:hover:before {color: black;}#sk-container-id-1 div.sk-estimator:hover label.sk-toggleable__label-arrow:before {color: black;}#sk-container-id-1 div.sk-toggleable__content {max-height: 0;max-width: 0;overflow: hidden;text-align: left;background-color: #f0f8ff;}#sk-container-id-1 div.sk-toggleable__content pre {margin: 0.2em;color: black;border-radius: 0.25em;background-color: #f0f8ff;}#sk-container-id-1 input.sk-toggleable__control:checked~div.sk-toggleable__content {max-height: 200px;max-width: 100%;overflow: auto;}#sk-container-id-1 input.sk-toggleable__control:checked~label.sk-toggleable__label-arrow:before {content: \"▾\";}#sk-container-id-1 div.sk-estimator input.sk-toggleable__control:checked~label.sk-toggleable__label {background-color: #d4ebff;}#sk-container-id-1 div.sk-label input.sk-toggleable__control:checked~label.sk-toggleable__label {background-color: #d4ebff;}#sk-container-id-1 input.sk-hidden--visually {border: 0;clip: rect(1px 1px 1px 1px);clip: rect(1px, 1px, 1px, 1px);height: 1px;margin: -1px;overflow: hidden;padding: 0;position: absolute;width: 1px;}#sk-container-id-1 div.sk-estimator {font-family: monospace;background-color: #f0f8ff;border: 1px dotted black;border-radius: 0.25em;box-sizing: border-box;margin-bottom: 0.5em;}#sk-container-id-1 div.sk-estimator:hover {background-color: #d4ebff;}#sk-container-id-1 div.sk-parallel-item::after {content: \"\";width: 100%;border-bottom: 1px solid gray;flex-grow: 1;}#sk-container-id-1 div.sk-label:hover label.sk-toggleable__label {background-color: #d4ebff;}#sk-container-id-1 div.sk-serial::before {content: \"\";position: absolute;border-left: 1px solid gray;box-sizing: border-box;top: 0;bottom: 0;left: 50%;z-index: 0;}#sk-container-id-1 div.sk-serial {display: flex;flex-direction: column;align-items: center;background-color: white;padding-right: 0.2em;padding-left: 0.2em;position: relative;}#sk-container-id-1 div.sk-item {position: relative;z-index: 1;}#sk-container-id-1 div.sk-parallel {display: flex;align-items: stretch;justify-content: center;background-color: white;position: relative;}#sk-container-id-1 div.sk-item::before, #sk-container-id-1 div.sk-parallel-item::before {content: \"\";position: absolute;border-left: 1px solid gray;box-sizing: border-box;top: 0;bottom: 0;left: 50%;z-index: -1;}#sk-container-id-1 div.sk-parallel-item {display: flex;flex-direction: column;z-index: 1;position: relative;background-color: white;}#sk-container-id-1 div.sk-parallel-item:first-child::after {align-self: flex-end;width: 50%;}#sk-container-id-1 div.sk-parallel-item:last-child::after {align-self: flex-start;width: 50%;}#sk-container-id-1 div.sk-parallel-item:only-child::after {width: 0;}#sk-container-id-1 div.sk-dashed-wrapped {border: 1px dashed gray;margin: 0 0.4em 0.5em 0.4em;box-sizing: border-box;padding-bottom: 0.4em;background-color: white;}#sk-container-id-1 div.sk-label label {font-family: monospace;font-weight: bold;display: inline-block;line-height: 1.2em;}#sk-container-id-1 div.sk-label-container {text-align: center;}#sk-container-id-1 div.sk-container {/* jupyter's `normalize.less` sets `[hidden] { display: none; }` but bootstrap.min.css set `[hidden] { display: none !important; }` so we also need the `!important` here to be able to override the default hidden behavior on the sphinx rendered scikit-learn.org. See: https://github.com/scikit-learn/scikit-learn/issues/21755 */display: inline-block !important;position: relative;}#sk-container-id-1 div.sk-text-repr-fallback {display: none;}</style><div id=\"sk-container-id-1\" class=\"sk-top-container\"><div class=\"sk-text-repr-fallback\"><pre>RandomForestClassifier(bootstrap=False, class_weight=&#x27;balanced&#x27;,\n",
       "                       criterion=&#x27;entropy&#x27;, max_depth=8, n_estimators=200,\n",
       "                       n_jobs=-1)</pre><b>In a Jupyter environment, please rerun this cell to show the HTML representation or trust the notebook. <br />On GitHub, the HTML representation is unable to render, please try loading this page with nbviewer.org.</b></div><div class=\"sk-container\" hidden><div class=\"sk-item\"><div class=\"sk-estimator sk-toggleable\"><input class=\"sk-toggleable__control sk-hidden--visually\" id=\"sk-estimator-id-1\" type=\"checkbox\" checked><label for=\"sk-estimator-id-1\" class=\"sk-toggleable__label sk-toggleable__label-arrow\">RandomForestClassifier</label><div class=\"sk-toggleable__content\"><pre>RandomForestClassifier(bootstrap=False, class_weight=&#x27;balanced&#x27;,\n",
       "                       criterion=&#x27;entropy&#x27;, max_depth=8, n_estimators=200,\n",
       "                       n_jobs=-1)</pre></div></div></div></div></div>"
      ],
      "text/plain": [
       "RandomForestClassifier(bootstrap=False, class_weight='balanced',\n",
       "                       criterion='entropy', max_depth=8, n_estimators=200,\n",
       "                       n_jobs=-1)"
      ]
     },
     "execution_count": 72,
     "metadata": {},
     "output_type": "execute_result"
    }
   ],
   "source": [
    "#We now run the best classifer\n",
    "clf_1 = RandomForestClassifier(max_depth=8,  criterion='entropy', n_estimators=200, bootstrap=False, class_weight='balanced',n_jobs=-1)\n",
    "clf_1.fit(X_train, y_train)"
   ]
  },
  {
   "cell_type": "code",
   "execution_count": 73,
   "metadata": {},
   "outputs": [
    {
     "name": "stdout",
     "output_type": "stream",
     "text": [
      "Training Accuracy 0.8567335243553008\n",
      "Validation  Accuracy 0.3684913217623498\n"
     ]
    }
   ],
   "source": [
    "yt_p = clf_1.predict(X_train)\n",
    "yv_p = clf_1.predict(X_val)\n",
    "\n",
    "print('Training Accuracy', np.mean(yt_p==y_train))\n",
    "print('Validation  Accuracy', np.mean(yv_p==y_val))"
   ]
  },
  {
   "cell_type": "code",
   "execution_count": 42,
   "metadata": {
    "id": "cZYHghqhlDeM"
   },
   "outputs": [
    {
     "name": "stdout",
     "output_type": "stream",
     "text": [
      "Training Accuracy 0.6154727793696275\n",
      "Validation  Accuracy 0.4325767690253672\n",
      "The support vectors are (1604, 11)\n"
     ]
    }
   ],
   "source": [
    "model  = svm.SVC(C=5)\n",
    "model.fit(X_train,y_train)\n",
    "\n",
    "yt_p = model.predict(X_train)\n",
    "yv_p = model.predict(X_val)\n",
    "\n",
    "print('Training Accuracy', np.mean(yt_p==y_train))\n",
    "print('Validation  Accuracy', np.mean(yv_p==y_val))\n",
    "print('The support vectors are', model.support_vectors_.shape)"
   ]
  },
  {
   "cell_type": "code",
   "execution_count": 43,
   "metadata": {
    "id": "XJGHrtdWlLre"
   },
   "outputs": [
    {
     "name": "stdout",
     "output_type": "stream",
     "text": [
      "Training Accuracy 0.9753581661891118\n",
      "Validation  Accuracy 0.3364485981308411\n",
      "The support vectors are (1745, 11)\n"
     ]
    }
   ],
   "source": [
    "mean = X_train.mean(0)\n",
    "sd =  X_train.std(0)\n",
    "\n",
    "X_train = (X_train-mean)/sd\n",
    "X_val  = (X_val-mean)/sd\n",
    "\n",
    "model  = svm.SVC(C=1,gamma=2)\n",
    "model.fit(X_train,y_train)\n",
    "\n",
    "yt_p = model.predict(X_train)\n",
    "yv_p = model.predict(X_val)\n",
    "\n",
    "print('Training Accuracy', np.mean(yt_p==y_train))\n",
    "print('Validation  Accuracy', np.mean(yv_p==y_val))\n",
    "print('The support vectors are', model.support_vectors_.shape)"
   ]
  },
  {
   "cell_type": "markdown",
   "metadata": {},
   "source": [
    "<h1>KNN</h1>"
   ]
  },
  {
   "cell_type": "code",
   "execution_count": 104,
   "metadata": {},
   "outputs": [
    {
     "data": {
      "image/png": "[encoded data removed]",
      "text/plain": [
       "<Figure size 432x288 with 1 Axes>"
      ]
     },
     "metadata": {
      "needs_background": "light"
     },
     "output_type": "display_data"
    },
    {
     "name": "stdout",
     "output_type": "stream",
     "text": [
      "Training Accuracy 0.5318051575931232\n",
      "Validation  Accuracy 0.38584779706275035\n"
     ]
    }
   ],
   "source": [
    "from sklearn.neighbors import KNeighborsClassifier\n",
    "scores = []\n",
    "index = range(1, len(X_val))\n",
    "for i in range(1, len(X_val)):\n",
    "    classifier = KNeighborsClassifier(n_neighbors=i)\n",
    "    classifier.fit(X_train, y_train)\n",
    "    scores.append(classifier.score(X_val, y_val))\n",
    "plt.title(\"KNN Line graph\")\n",
    "plt.xlabel(\"n_neighbors\")\n",
    "plt.ylabel(\"Accuracy\")\n",
    "plt.plot(index, scores, color=\"blue\")\n",
    "plt.ion()\n",
    "plt.show()\n",
    "plt.pause(2)\n",
    "plt.close()\n",
    "\n",
    "\n",
    "knn_model = KNeighborsClassifier(n_neighbors = 8)\n",
    "knn_model.fit(X_train, y_train)\n",
    "\n",
    "yt_p_knn = knn_model.predict(X_train)\n",
    "yv_p_knn = knn_model.predict(X_val)\n",
    "\n",
    "print('Training Accuracy', np.mean(yt_p_knn==y_train))\n",
    "print('Validation  Accuracy', np.mean(yv_p_knn==y_val))\n"
   ]
  },
  {
   "cell_type": "markdown",
   "metadata": {
    "id": "bPTSuaB9L2jU"
   },
   "source": [
    "# 10 Performance Evaluation and Results\n",
    "\n",
    "We use Precision, Recall, F1-Score, Support, Confusion Matrix and ROC AUC score to analyze and evaluate the two models that we have used. "
   ]
  },
  {
   "cell_type": "markdown",
   "metadata": {},
   "source": [
    "Precision, Recall, F1-Score, Support and Confusion Matrix for Random Forest Classifier"
   ]
  },
  {
   "cell_type": "code",
   "execution_count": 108,
   "metadata": {},
   "outputs": [
    {
     "name": "stdout",
     "output_type": "stream",
     "text": [
      "              precision    recall  f1-score   support\n",
      "\n",
      "      Euston       0.22      0.37      0.27        75\n",
      "     british       0.27      0.30      0.28       132\n",
      "      campus       0.55      0.41      0.47       238\n",
      "  kensington       0.29      0.39      0.33        49\n",
      "   southbank       0.16      0.14      0.15        63\n",
      "     westend       0.47      0.44      0.45       192\n",
      "\n",
      "    accuracy                           0.37       749\n",
      "   macro avg       0.33      0.34      0.33       749\n",
      "weighted avg       0.40      0.37      0.38       749\n",
      "\n"
     ]
    },
    {
     "data": {
      "image/png": "[encoded data removed]",
      "text/plain": [
       "<Figure size 432x288 with 1 Axes>"
      ]
     },
     "metadata": {
      "needs_background": "light"
     },
     "output_type": "display_data"
    }
   ],
   "source": [
    "from sklearn.metrics import classification_report, confusion_matrix, accuracy_score\n",
    "from sklearn import metrics\n",
    "\n",
    "x = metrics.confusion_matrix(y_val, yv_p, labels=['Euston', 'british', 'campus', 'kensington', 'southbank', 'westend'])\n",
    "y = metrics.confusion_matrix(y_train, yt_p, labels=['Euston', 'british', 'campus', 'kensington', 'southbank', 'westend'])\n",
    "tones = ['Euston', 'british', 'campus', 'kensington', 'southbank', 'westend']\n",
    "sns.heatmap(x,square=True, annot=True, fmt='d', cbar=False,\n",
    "            xticklabels = tones,\n",
    "            yticklabels = tones)\n",
    "plt.xlabel('true label')\n",
    "plt.ylabel('predicted label')\n",
    "print(classification_report(y_val, yv_p))\n",
    "          \n",
    "\n",
    "\n",
    "plt.show()"
   ]
  },
  {
   "cell_type": "markdown",
   "metadata": {},
   "source": [
    "Precision, Recall, F1-Score, Support and Confusion Matrix for KNN Classifier"
   ]
  },
  {
   "cell_type": "code",
   "execution_count": 112,
   "metadata": {},
   "outputs": [
    {
     "name": "stdout",
     "output_type": "stream",
     "text": [
      "              precision    recall  f1-score   support\n",
      "\n",
      "      Euston       0.22      0.37      0.27        75\n",
      "     british       0.27      0.30      0.28       132\n",
      "      campus       0.55      0.41      0.47       238\n",
      "  kensington       0.29      0.39      0.33        49\n",
      "   southbank       0.16      0.14      0.15        63\n",
      "     westend       0.47      0.44      0.45       192\n",
      "\n",
      "    accuracy                           0.37       749\n",
      "   macro avg       0.33      0.34      0.33       749\n",
      "weighted avg       0.40      0.37      0.38       749\n",
      "\n"
     ]
    },
    {
     "data": {
      "image/png": "[encoded data removed]",
      "text/plain": [
       "<Figure size 432x288 with 1 Axes>"
      ]
     },
     "metadata": {
      "needs_background": "light"
     },
     "output_type": "display_data"
    }
   ],
   "source": [
    "x = metrics.confusion_matrix(y_val, yv_p_knn, labels=['Euston', 'british', 'campus', 'kensington', 'southbank', 'westend'])\n",
    "y = metrics.confusion_matrix(y_train, yt_p_knn, labels=['Euston', 'british', 'campus', 'kensington', 'southbank', 'westend'])\n",
    "tones = ['Euston', 'british', 'campus', 'kensington', 'southbank', 'westend']\n",
    "sns.heatmap(x,square=True, annot=True, fmt='d', cbar=False,\n",
    "            xticklabels = tones,\n",
    "            yticklabels = tones)\n",
    "plt.xlabel('true label')\n",
    "plt.ylabel('predicted label')\n",
    "print(classification_report(y_val, yv_p))\n"
   ]
  },
  {
   "cell_type": "markdown",
   "metadata": {},
   "source": [
    "ROC curve allows us to visualize the tradeoff between true positive rate (TPR) and false positive rate (FPR). ROC AUC essentially is computing the area under the ROC curve."
   ]
  },
  {
   "cell_type": "code",
   "execution_count": 114,
   "metadata": {},
   "outputs": [
    {
     "name": "stdout",
     "output_type": "stream",
     "text": [
      "ROC accuracy Score for KNN : 0.84990 \n",
      "ROC accuracy Score for Random Forest Algorithm : 0.98372 \n"
     ]
    }
   ],
   "source": [
    "from sklearn.metrics import roc_auc_score\n",
    "\n",
    "# Finding probabilities for roc_auc_score\n",
    "rf_probabilities = clf_1.predict_proba(X_train)\n",
    "\n",
    "# Finding probabilities for roc_auc_score\n",
    "knn_probabilities = knn_model.predict_proba(X_train)\n",
    "\n",
    "knn_roc_auc_score = roc_auc_score(y_train, knn_probabilities, multi_class=\"ovr\")\n",
    "print(\"ROC accuracy Score for KNN : {:.5f} \".format(knn_roc_auc_score))\n",
    "\n",
    "rfa_roc_auc_score = roc_auc_score(y_train, rf_probabilities, multi_class=\"ovr\")\n",
    "print(\"ROC accuracy Score for Random Forest Algorithm : {:.5f} \".format(rfa_roc_auc_score))"
   ]
  },
  {
   "cell_type": "markdown",
   "metadata": {
    "id": "fSrJCR_cekPO"
   },
   "source": [
    "# 11 Conclusions\n",
    "\n",
    "In advanced solution we have compared two different classification models for predicting area where the audio segment was captured. Based on the performance evaluation of these models, we can conclude that KNN Algorithm performs better as it has better validation accuracy of 38.5 percent. The data are skewed towards certain areas. So, it is difficult, irrespective of what model we choose, to achieve a significantly high accuracy. "
   ]
  }
 ],
 "metadata": {
  "colab": {
   "provenance": []
  },
  "kernelspec": {
   "display_name": "Python 3 (ipykernel)",
   "language": "python",
   "name": "python3"
  },
  "language_info": {
   "codemirror_mode": {
    "name": "ipython",
    "version": 3
   },
   "file_extension": ".py",
   "mimetype": "text/x-python",
   "name": "python",
   "nbconvert_exporter": "python",
   "pygments_lexer": "ipython3",
   "version": "3.10.4"
  }
 },
 "nbformat": 4,
 "nbformat_minor": 1
}
